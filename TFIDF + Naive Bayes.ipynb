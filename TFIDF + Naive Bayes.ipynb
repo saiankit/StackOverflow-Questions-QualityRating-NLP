{
 "cells": [
  {
   "cell_type": "code",
   "execution_count": 2,
   "id": "38e337ca",
   "metadata": {
    "ExecuteTime": {
     "end_time": "2021-09-17T13:57:06.642684Z",
     "start_time": "2021-09-17T13:57:06.638075Z"
    }
   },
   "outputs": [],
   "source": [
    "import pandas as pd\n",
    "import numpy as np\n",
    "\n",
    "from sklearn.feature_extraction.text import TfidfVectorizer"
   ]
  },
  {
   "cell_type": "code",
   "execution_count": 3,
   "id": "73d3afbc",
   "metadata": {
    "ExecuteTime": {
     "end_time": "2021-09-17T13:57:09.335550Z",
     "start_time": "2021-09-17T13:57:08.845960Z"
    }
   },
   "outputs": [],
   "source": [
    "training_data = pd.read_csv(\"./data/cleaned/training_data_cleaned.csv\")\n",
    "testing_data = pd.read_csv(\"./data/cleaned/validation_data_cleaned.csv\")"
   ]
  },
  {
   "cell_type": "code",
   "execution_count": 4,
   "id": "5a7b1713",
   "metadata": {
    "ExecuteTime": {
     "end_time": "2021-09-17T13:57:13.657279Z",
     "start_time": "2021-09-17T13:57:13.643033Z"
    }
   },
   "outputs": [],
   "source": [
    "def multiclass_logloss(actual, predicted, eps=1e-15):\n",
    "    \"\"\"Multi class version of Logarithmic Loss metric.\n",
    "    :param actual: Array containing the actual target classes\n",
    "    :param predicted: Matrix with class predictions, one probability per class\n",
    "    \"\"\"\n",
    "    # Convert 'actual' to a binary array if it's not already:\n",
    "    if len(actual.shape) == 1:\n",
    "        actual2 = np.zeros((actual.shape[0], predicted.shape[1]))\n",
    "        for i, val in enumerate(actual):\n",
    "            actual2[i, val] = 1\n",
    "        actual = actual2\n",
    "\n",
    "    clip = np.clip(predicted, eps, 1 - eps)\n",
    "    rows = actual.shape[0]\n",
    "    vsota = np.sum(actual * np.log(clip))\n",
    "    return -1.0 / rows * vsota"
   ]
  },
  {
   "cell_type": "code",
   "execution_count": 5,
   "id": "12c4ecc5",
   "metadata": {
    "ExecuteTime": {
     "end_time": "2021-09-17T13:57:22.203272Z",
     "start_time": "2021-09-17T13:57:22.182790Z"
    }
   },
   "outputs": [],
   "source": [
    "xtrain = training_data.text.values\n",
    "ytrain = training_data.Y.values\n",
    "xtest = testing_data.text.values\n",
    "ytest = testing_data.Y.values"
   ]
  },
  {
   "cell_type": "code",
   "execution_count": 6,
   "id": "0dfc4fb7",
   "metadata": {
    "ExecuteTime": {
     "end_time": "2021-09-17T13:57:24.567185Z",
     "start_time": "2021-09-17T13:57:24.559827Z"
    }
   },
   "outputs": [],
   "source": [
    "# Always start with these features. They work (almost) everytime!\n",
    "tfv = TfidfVectorizer(min_df=3,  max_features=None, \n",
    "            strip_accents='unicode', analyzer='word',token_pattern=r'\\w{1,}',\n",
    "            ngram_range=(1, 3), use_idf=1,smooth_idf=1,sublinear_tf=1,\n",
    "            stop_words = 'english')"
   ]
  },
  {
   "cell_type": "code",
   "execution_count": 7,
   "id": "3d6ec81b",
   "metadata": {
    "ExecuteTime": {
     "end_time": "2021-09-17T13:58:04.939808Z",
     "start_time": "2021-09-17T13:57:28.971631Z"
    }
   },
   "outputs": [],
   "source": [
    "# Fitting TF-IDF to both training and test sets (semi-supervised learning)\n",
    "tfv.fit(list(xtrain) + list(xtest))\n",
    "xtrain_tfv =  tfv.transform(xtrain) \n",
    "xtest_tfv = tfv.transform(xtest)"
   ]
  },
  {
   "cell_type": "code",
   "execution_count": null,
   "id": "c9b1de94",
   "metadata": {},
   "outputs": [],
   "source": []
  }
 ],
 "metadata": {
  "kernelspec": {
   "display_name": "Python 3 (ipykernel)",
   "language": "python",
   "name": "python3"
  },
  "language_info": {
   "codemirror_mode": {
    "name": "ipython",
    "version": 3
   },
   "file_extension": ".py",
   "mimetype": "text/x-python",
   "name": "python",
   "nbconvert_exporter": "python",
   "pygments_lexer": "ipython3",
   "version": "3.8.8"
  },
  "varInspector": {
   "cols": {
    "lenName": 16,
    "lenType": 16,
    "lenVar": 40
   },
   "kernels_config": {
    "python": {
     "delete_cmd_postfix": "",
     "delete_cmd_prefix": "del ",
     "library": "var_list.py",
     "varRefreshCmd": "print(var_dic_list())"
    },
    "r": {
     "delete_cmd_postfix": ") ",
     "delete_cmd_prefix": "rm(",
     "library": "var_list.r",
     "varRefreshCmd": "cat(var_dic_list()) "
    }
   },
   "types_to_exclude": [
    "module",
    "function",
    "builtin_function_or_method",
    "instance",
    "_Feature"
   ],
   "window_display": false
  }
 },
 "nbformat": 4,
 "nbformat_minor": 5
}
