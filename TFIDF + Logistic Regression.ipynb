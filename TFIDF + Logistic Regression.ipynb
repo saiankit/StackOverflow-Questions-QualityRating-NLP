{
 "cells": [
  {
   "cell_type": "code",
   "execution_count": 1,
   "id": "f6fc061a",
   "metadata": {
    "ExecuteTime": {
     "end_time": "2021-09-17T10:21:30.405541Z",
     "start_time": "2021-09-17T10:21:27.624929Z"
    }
   },
   "outputs": [],
   "source": [
    "import pandas as pd\n",
    "import numpy as np\n",
    "\n",
    "from sklearn.feature_extraction.text import TfidfVectorizer\n",
    "from sklearn.linear_model import LogisticRegression"
   ]
  },
  {
   "cell_type": "code",
   "execution_count": 2,
   "id": "8ba2771f",
   "metadata": {
    "ExecuteTime": {
     "end_time": "2021-09-17T10:21:31.028357Z",
     "start_time": "2021-09-17T10:21:30.408441Z"
    }
   },
   "outputs": [],
   "source": [
    "training_data = pd.read_csv(\"./data/cleaned/training_data_cleaned.csv\")\n",
    "testing_data = pd.read_csv(\"./data/cleaned/validation_data_cleaned.csv\")"
   ]
  },
  {
   "cell_type": "code",
   "execution_count": 3,
   "id": "3b10ca3f",
   "metadata": {
    "ExecuteTime": {
     "end_time": "2021-09-17T10:21:31.037827Z",
     "start_time": "2021-09-17T10:21:31.032902Z"
    }
   },
   "outputs": [],
   "source": [
    "def multiclass_logloss(actual, predicted, eps=1e-15):\n",
    "    \"\"\"Multi class version of Logarithmic Loss metric.\n",
    "    :param actual: Array containing the actual target classes\n",
    "    :param predicted: Matrix with class predictions, one probability per class\n",
    "    \"\"\"\n",
    "    # Convert 'actual' to a binary array if it's not already:\n",
    "    if len(actual.shape) == 1:\n",
    "        actual2 = np.zeros((actual.shape[0], predicted.shape[1]))\n",
    "        for i, val in enumerate(actual):\n",
    "            actual2[i, val] = 1\n",
    "        actual = actual2\n",
    "\n",
    "    clip = np.clip(predicted, eps, 1 - eps)\n",
    "    rows = actual.shape[0]\n",
    "    vsota = np.sum(actual * np.log(clip))\n",
    "    return -1.0 / rows * vsota"
   ]
  },
  {
   "cell_type": "code",
   "execution_count": 4,
   "id": "34796729",
   "metadata": {
    "ExecuteTime": {
     "end_time": "2021-09-17T10:21:31.049706Z",
     "start_time": "2021-09-17T10:21:31.043485Z"
    }
   },
   "outputs": [],
   "source": [
    "xtrain = training_data.text.values\n",
    "ytrain = training_data.Y.values\n",
    "xtest = testing_data.text.values\n",
    "ytest = testing_data.Y.values"
   ]
  },
  {
   "cell_type": "code",
   "execution_count": 5,
   "id": "3bb0f662",
   "metadata": {
    "ExecuteTime": {
     "end_time": "2021-09-17T10:21:31.062322Z",
     "start_time": "2021-09-17T10:21:31.056801Z"
    }
   },
   "outputs": [
    {
     "name": "stdout",
     "output_type": "stream",
     "text": [
      "(45000,)\n",
      "(15000,)\n"
     ]
    }
   ],
   "source": [
    "print (xtrain.shape)\n",
    "print(xtest.shape)"
   ]
  },
  {
   "cell_type": "code",
   "execution_count": 6,
   "id": "aaa312a4",
   "metadata": {
    "ExecuteTime": {
     "end_time": "2021-09-17T10:21:31.069399Z",
     "start_time": "2021-09-17T10:21:31.065033Z"
    }
   },
   "outputs": [],
   "source": [
    "# Always start with these features. They work (almost) everytime!\n",
    "tfv = TfidfVectorizer(min_df=3,  max_features=None, \n",
    "            strip_accents='unicode', analyzer='word',token_pattern=r'\\w{1,}',\n",
    "            ngram_range=(1, 3), use_idf=1,smooth_idf=1,sublinear_tf=1,\n",
    "            stop_words = 'english')"
   ]
  },
  {
   "cell_type": "code",
   "execution_count": 7,
   "id": "4639568e",
   "metadata": {
    "ExecuteTime": {
     "end_time": "2021-09-17T10:22:01.979861Z",
     "start_time": "2021-09-17T10:21:31.079130Z"
    }
   },
   "outputs": [],
   "source": [
    "# Fitting TF-IDF to both training and test sets (semi-supervised learning)\n",
    "tfv.fit(list(xtrain) + list(xtest))\n",
    "xtrain_tfv =  tfv.transform(xtrain) \n",
    "xtest_tfv = tfv.transform(xtest)"
   ]
  },
  {
   "cell_type": "code",
   "execution_count": 8,
   "id": "822fa3d8",
   "metadata": {
    "ExecuteTime": {
     "end_time": "2021-09-17T10:22:45.574612Z",
     "start_time": "2021-09-17T10:22:01.982055Z"
    }
   },
   "outputs": [
    {
     "name": "stdout",
     "output_type": "stream",
     "text": [
      "logloss: 0.687 \n"
     ]
    }
   ],
   "source": [
    "# Fitting a simple Logistic Regression on TFIDF\n",
    "clf = LogisticRegression(max_iter=250)\n",
    "clf.fit(xtrain_tfv, ytrain)\n",
    "predictions = clf.predict_proba(xtest_tfv)\n",
    "print (\"logloss: %0.3f \" % multiclass_logloss(ytest, predictions))"
   ]
  },
  {
   "cell_type": "code",
   "execution_count": 9,
   "id": "e7bac422",
   "metadata": {
    "ExecuteTime": {
     "end_time": "2021-09-17T10:24:06.452514Z",
     "start_time": "2021-09-17T10:24:06.429326Z"
    }
   },
   "outputs": [
    {
     "name": "stdout",
     "output_type": "stream",
     "text": [
      "Validation Accuracy of Logsitic Regression Classifier is: 69.55%\n"
     ]
    }
   ],
   "source": [
    "print(f\"Validation Accuracy of Logsitic Regression Classifier is: {(clf.score(xtest_tfv, ytest))*100:.2f}%\")"
   ]
  },
  {
   "cell_type": "code",
   "execution_count": null,
   "id": "654fe11c",
   "metadata": {},
   "outputs": [],
   "source": []
  }
 ],
 "metadata": {
  "kernelspec": {
   "display_name": "Python 3 (ipykernel)",
   "language": "python",
   "name": "python3"
  },
  "language_info": {
   "codemirror_mode": {
    "name": "ipython",
    "version": 3
   },
   "file_extension": ".py",
   "mimetype": "text/x-python",
   "name": "python",
   "nbconvert_exporter": "python",
   "pygments_lexer": "ipython3",
   "version": "3.8.8"
  },
  "varInspector": {
   "cols": {
    "lenName": 16,
    "lenType": 16,
    "lenVar": 40
   },
   "kernels_config": {
    "python": {
     "delete_cmd_postfix": "",
     "delete_cmd_prefix": "del ",
     "library": "var_list.py",
     "varRefreshCmd": "print(var_dic_list())"
    },
    "r": {
     "delete_cmd_postfix": ") ",
     "delete_cmd_prefix": "rm(",
     "library": "var_list.r",
     "varRefreshCmd": "cat(var_dic_list()) "
    }
   },
   "types_to_exclude": [
    "module",
    "function",
    "builtin_function_or_method",
    "instance",
    "_Feature"
   ],
   "window_display": false
  }
 },
 "nbformat": 4,
 "nbformat_minor": 5
}
