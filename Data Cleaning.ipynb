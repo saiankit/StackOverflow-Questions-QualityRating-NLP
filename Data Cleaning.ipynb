{
 "cells": [
  {
   "cell_type": "code",
   "execution_count": 1,
   "id": "9a533308",
   "metadata": {
    "ExecuteTime": {
     "end_time": "2021-09-02T02:11:06.658113Z",
     "start_time": "2021-09-02T02:11:01.986728Z"
    }
   },
   "outputs": [],
   "source": [
    "import numpy as np\n",
    "import pandas as pd\n",
    "from bs4 import BeautifulSoup\n",
    "import nltk\n",
    "from sklearn.feature_extraction.text import TfidfVectorizer\n",
    "import re"
   ]
  },
  {
   "cell_type": "markdown",
   "id": "a3e7d7f2",
   "metadata": {},
   "source": [
    "### Loading Training and Validation Data"
   ]
  },
  {
   "cell_type": "code",
   "execution_count": 2,
   "id": "dd214192",
   "metadata": {
    "ExecuteTime": {
     "end_time": "2021-09-02T02:11:08.005126Z",
     "start_time": "2021-09-02T02:11:06.671427Z"
    }
   },
   "outputs": [],
   "source": [
    "training_data = pd.read_csv(\"./data/raw/train.csv\")\n",
    "validation_data = pd.read_csv(\"./data/raw/valid.csv\")"
   ]
  },
  {
   "cell_type": "markdown",
   "id": "b1f66137",
   "metadata": {},
   "source": [
    "### Data preprocessing"
   ]
  },
  {
   "cell_type": "markdown",
   "id": "a9e8c6e3",
   "metadata": {},
   "source": [
    "#### Dropping ID, Tags and CreationData which are not required for the processing\n",
    "#### Converting the Result label to numeric"
   ]
  },
  {
   "cell_type": "code",
   "execution_count": 3,
   "id": "c3a8b89e",
   "metadata": {
    "ExecuteTime": {
     "end_time": "2021-09-02T02:11:08.033839Z",
     "start_time": "2021-09-02T02:11:08.006915Z"
    }
   },
   "outputs": [],
   "source": [
    "training_data = training_data.drop(['Id', 'Tags', 'CreationDate'], axis=1)\n",
    "training_data['Y'] = training_data['Y'].map({'LQ_CLOSE':0, 'LQ_EDIT': 1, 'HQ':2})\n",
    "\n",
    "validation_data = validation_data.drop(['Id', 'Tags', 'CreationDate'], axis=1)\n",
    "validation_data['Y'] = validation_data['Y'].map({'LQ_CLOSE':0, 'LQ_EDIT': 1, 'HQ':2})"
   ]
  },
  {
   "cell_type": "code",
   "execution_count": 4,
   "id": "025977a3",
   "metadata": {
    "ExecuteTime": {
     "end_time": "2021-09-02T02:11:08.147191Z",
     "start_time": "2021-09-02T02:11:08.035704Z"
    }
   },
   "outputs": [],
   "source": [
    "training_data['text'] = training_data['Title'] + ' ' + training_data['Body']\n",
    "training_data = training_data.drop(['Title', 'Body'], axis=1)\n",
    "\n",
    "validation_data['text'] = validation_data['Title'] + ' ' + validation_data['Body']\n",
    "validation_data = validation_data.drop(['Title', 'Body'], axis=1)"
   ]
  },
  {
   "cell_type": "code",
   "execution_count": 5,
   "id": "02cc45bf",
   "metadata": {
    "ExecuteTime": {
     "end_time": "2021-09-02T02:11:08.161771Z",
     "start_time": "2021-09-02T02:11:08.156255Z"
    }
   },
   "outputs": [],
   "source": [
    "def clean_text(text):\n",
    "    text = BeautifulSoup(text, \"lxml\").text # HTML decoding\n",
    "    text = text.lower() # lowercase text\n",
    "    text = REPLACE_BY_SPACE_RE.sub(' ', text) # replace REPLACE_BY_SPACE_RE symbols by space in text\n",
    "    text = BAD_SYMBOLS_RE.sub('', text) # delete symbols which are in BAD_SYMBOLS_RE from text\n",
    "    text = ' '.join(word for word in text.split() if word not in STOPWORDS) # delete stopwors from text\n",
    "    return text"
   ]
  },
  {
   "cell_type": "code",
   "execution_count": 6,
   "id": "9972e540",
   "metadata": {
    "ExecuteTime": {
     "end_time": "2021-09-02T02:12:12.231776Z",
     "start_time": "2021-09-02T02:11:08.165677Z"
    }
   },
   "outputs": [],
   "source": [
    "REPLACE_BY_SPACE_RE = re.compile('[/(){}\\[\\]\\|@,;]')\n",
    "BAD_SYMBOLS_RE = re.compile('[^0-9a-z #+_]')\n",
    "STOPWORDS =nltk.corpus.stopwords.words('english')\n",
    "training_data['text']=training_data['text'].apply(clean_text)\n",
    "validation_data['text']=validation_data['text'].apply(clean_text)"
   ]
  },
  {
   "cell_type": "code",
   "execution_count": 9,
   "id": "ab8d326e",
   "metadata": {
    "ExecuteTime": {
     "end_time": "2021-09-02T02:14:24.666731Z",
     "start_time": "2021-09-02T02:14:23.682347Z"
    }
   },
   "outputs": [],
   "source": [
    "training_data.to_csv(\"./data/cleaned/training_data_cleaned.csv\",index=False)\n",
    "validation_data.to_csv(\"./data/cleaned/validation_data_cleaned.csv\",index=False)"
   ]
  }
 ],
 "metadata": {
  "kernelspec": {
   "display_name": "Python 3 (ipykernel)",
   "language": "python",
   "name": "python3"
  },
  "language_info": {
   "codemirror_mode": {
    "name": "ipython",
    "version": 3
   },
   "file_extension": ".py",
   "mimetype": "text/x-python",
   "name": "python",
   "nbconvert_exporter": "python",
   "pygments_lexer": "ipython3",
   "version": "3.8.8"
  },
  "varInspector": {
   "cols": {
    "lenName": 16,
    "lenType": 16,
    "lenVar": 40
   },
   "kernels_config": {
    "python": {
     "delete_cmd_postfix": "",
     "delete_cmd_prefix": "del ",
     "library": "var_list.py",
     "varRefreshCmd": "print(var_dic_list())"
    },
    "r": {
     "delete_cmd_postfix": ") ",
     "delete_cmd_prefix": "rm(",
     "library": "var_list.r",
     "varRefreshCmd": "cat(var_dic_list()) "
    }
   },
   "types_to_exclude": [
    "module",
    "function",
    "builtin_function_or_method",
    "instance",
    "_Feature"
   ],
   "window_display": false
  }
 },
 "nbformat": 4,
 "nbformat_minor": 5
}
